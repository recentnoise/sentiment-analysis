{
 "cells": [
  {
   "cell_type": "code",
   "execution_count": 57,
   "metadata": {
    "_cell_guid": "b1076dfc-b9ad-4769-8c92-a6c4dae69d19",
    "_uuid": "8f2839f25d086af736a60e9eeb907d3b93b6e0e5",
    "execution": {
     "iopub.execute_input": "2022-12-10T14:38:45.611291Z",
     "iopub.status.busy": "2022-12-10T14:38:45.610822Z",
     "iopub.status.idle": "2022-12-10T14:38:45.630051Z",
     "shell.execute_reply": "2022-12-10T14:38:45.628515Z",
     "shell.execute_reply.started": "2022-12-10T14:38:45.611230Z"
    }
   },
   "outputs": [
    {
     "name": "stdout",
     "output_type": "stream",
     "text": [
      "/kaggle/input/test-for-nlp/dataframetest_with_lemas.csv\n",
      "/kaggle/input/test-for-nlp/dataframe_with_lemas.csv\n",
      "/kaggle/input/hse-nlp-bootcamp/sample_submission.csv\n",
      "/kaggle/input/hse-nlp-bootcamp/train_ml.csv\n",
      "/kaggle/input/hse-nlp-bootcamp/new_test_ml.csv\n"
     ]
    }
   ],
   "source": [
    "# This Python 3 environment comes with many helpful analytics libraries installed\n",
    "# It is defined by the kaggle/python Docker image: https://github.com/kaggle/docker-python\n",
    "# For example, here's several helpful packages to load\n",
    "\n",
    "import numpy as np # linear algebra\n",
    "import pandas as pd # data processing, CSV file I/O (e.g. pd.read_csv)\n",
    "\n",
    "# Input data files are available in the read-only \"../input/\" directory\n",
    "# For example, running this (by clicking run or pressing Shift+Enter) will list all files under the input directory\n",
    "\n",
    "import os\n",
    "for dirname, _, filenames in os.walk('/kaggle/input'):\n",
    "    for filename in filenames:\n",
    "        print(os.path.join(dirname, filename))\n",
    "\n",
    "# You can write up to 20GB to the current directory (/kaggle/working/) that gets preserved as output when you create a version using \"Save & Run All\" \n",
    "# You can also write temporary files to /kaggle/temp/, but they won't be saved outside of the current session"
   ]
  },
  {
   "cell_type": "code",
   "execution_count": 3,
   "metadata": {
    "execution": {
     "iopub.execute_input": "2022-12-10T13:07:15.542610Z",
     "iopub.status.busy": "2022-12-10T13:07:15.541416Z",
     "iopub.status.idle": "2022-12-10T13:07:20.237715Z",
     "shell.execute_reply": "2022-12-10T13:07:20.236216Z",
     "shell.execute_reply.started": "2022-12-10T13:07:15.542474Z"
    }
   },
   "outputs": [
    {
     "data": {
      "text/html": [
       "<div>\n",
       "<style scoped>\n",
       "    .dataframe tbody tr th:only-of-type {\n",
       "        vertical-align: middle;\n",
       "    }\n",
       "\n",
       "    .dataframe tbody tr th {\n",
       "        vertical-align: top;\n",
       "    }\n",
       "\n",
       "    .dataframe thead th {\n",
       "        text-align: right;\n",
       "    }\n",
       "</style>\n",
       "<table border=\"1\" class=\"dataframe\">\n",
       "  <thead>\n",
       "    <tr style=\"text-align: right;\">\n",
       "      <th></th>\n",
       "      <th>bank</th>\n",
       "      <th>feeds</th>\n",
       "      <th>grades</th>\n",
       "      <th>date</th>\n",
       "    </tr>\n",
       "  </thead>\n",
       "  <tbody>\n",
       "    <tr>\n",
       "      <th>0</th>\n",
       "      <td>ubrr</td>\n",
       "      <td>Много лет являюсь клиентом этого банка, но пос...</td>\n",
       "      <td>1.0</td>\n",
       "      <td>16.02.2017 16:10</td>\n",
       "    </tr>\n",
       "    <tr>\n",
       "      <th>1</th>\n",
       "      <td>fk_otkritie</td>\n",
       "      <td>Г. Ростов-на-Дону, ул. Ленина, 48. Были 10.12....</td>\n",
       "      <td>2.0</td>\n",
       "      <td>13.12.2016 1:05</td>\n",
       "    </tr>\n",
       "    <tr>\n",
       "      <th>2</th>\n",
       "      <td>alfabank</td>\n",
       "      <td>Здравствуйте!Ранее уже оставлял отзыв о вашем ...</td>\n",
       "      <td>NaN</td>\n",
       "      <td>28.06.2019 13:54</td>\n",
       "    </tr>\n",
       "    <tr>\n",
       "      <th>3</th>\n",
       "      <td>vtb</td>\n",
       "      <td>Обращаюсь к Вам с жалобой на незаконное списан...</td>\n",
       "      <td>NaN</td>\n",
       "      <td>15.07.2020 14:54</td>\n",
       "    </tr>\n",
       "    <tr>\n",
       "      <th>4</th>\n",
       "      <td>promsvyazbank</td>\n",
       "      <td>Имею потребительский кредит, взятый в Связь-ба...</td>\n",
       "      <td>2.0</td>\n",
       "      <td>04.08.2020 6:38</td>\n",
       "    </tr>\n",
       "  </tbody>\n",
       "</table>\n",
       "</div>"
      ],
      "text/plain": [
       "            bank                                              feeds  grades  \\\n",
       "0           ubrr  Много лет являюсь клиентом этого банка, но пос...     1.0   \n",
       "1    fk_otkritie  Г. Ростов-на-Дону, ул. Ленина, 48. Были 10.12....     2.0   \n",
       "2       alfabank  Здравствуйте!Ранее уже оставлял отзыв о вашем ...     NaN   \n",
       "3            vtb  Обращаюсь к Вам с жалобой на незаконное списан...     NaN   \n",
       "4  promsvyazbank  Имею потребительский кредит, взятый в Связь-ба...     2.0   \n",
       "\n",
       "               date  \n",
       "0  16.02.2017 16:10  \n",
       "1   13.12.2016 1:05  \n",
       "2  28.06.2019 13:54  \n",
       "3  15.07.2020 14:54  \n",
       "4   04.08.2020 6:38  "
      ]
     },
     "execution_count": 3,
     "metadata": {},
     "output_type": "execute_result"
    }
   ],
   "source": [
    "df = pd.read_csv('/kaggle/input/hse-nlp-bootcamp/train_ml.csv')\n",
    "df.head()"
   ]
  },
  {
   "cell_type": "code",
   "execution_count": 4,
   "metadata": {
    "execution": {
     "iopub.execute_input": "2022-12-10T13:08:13.031023Z",
     "iopub.status.busy": "2022-12-10T13:08:13.030464Z",
     "iopub.status.idle": "2022-12-10T13:08:13.081782Z",
     "shell.execute_reply": "2022-12-10T13:08:13.080471Z",
     "shell.execute_reply.started": "2022-12-10T13:08:13.030976Z"
    }
   },
   "outputs": [],
   "source": [
    "df.dropna(inplace=True)"
   ]
  },
  {
   "cell_type": "code",
   "execution_count": 5,
   "metadata": {
    "execution": {
     "iopub.execute_input": "2022-12-10T13:08:24.227760Z",
     "iopub.status.busy": "2022-12-10T13:08:24.227290Z",
     "iopub.status.idle": "2022-12-10T13:08:24.255180Z",
     "shell.execute_reply": "2022-12-10T13:08:24.254008Z",
     "shell.execute_reply.started": "2022-12-10T13:08:24.227718Z"
    }
   },
   "outputs": [
    {
     "data": {
      "text/html": [
       "<div>\n",
       "<style scoped>\n",
       "    .dataframe tbody tr th:only-of-type {\n",
       "        vertical-align: middle;\n",
       "    }\n",
       "\n",
       "    .dataframe tbody tr th {\n",
       "        vertical-align: top;\n",
       "    }\n",
       "\n",
       "    .dataframe thead th {\n",
       "        text-align: right;\n",
       "    }\n",
       "</style>\n",
       "<table border=\"1\" class=\"dataframe\">\n",
       "  <thead>\n",
       "    <tr style=\"text-align: right;\">\n",
       "      <th></th>\n",
       "      <th>bank</th>\n",
       "      <th>feeds</th>\n",
       "      <th>grades</th>\n",
       "      <th>date</th>\n",
       "    </tr>\n",
       "  </thead>\n",
       "  <tbody>\n",
       "    <tr>\n",
       "      <th>0</th>\n",
       "      <td>ubrr</td>\n",
       "      <td>Много лет являюсь клиентом этого банка, но пос...</td>\n",
       "      <td>1</td>\n",
       "      <td>16.02.2017 16:10</td>\n",
       "    </tr>\n",
       "    <tr>\n",
       "      <th>1</th>\n",
       "      <td>fk_otkritie</td>\n",
       "      <td>Г. Ростов-на-Дону, ул. Ленина, 48. Были 10.12....</td>\n",
       "      <td>2</td>\n",
       "      <td>13.12.2016 1:05</td>\n",
       "    </tr>\n",
       "    <tr>\n",
       "      <th>4</th>\n",
       "      <td>promsvyazbank</td>\n",
       "      <td>Имею потребительский кредит, взятый в Связь-ба...</td>\n",
       "      <td>2</td>\n",
       "      <td>04.08.2020 6:38</td>\n",
       "    </tr>\n",
       "    <tr>\n",
       "      <th>7</th>\n",
       "      <td>homecreditbank</td>\n",
       "      <td>Хочу выразить глубокую благодарность всем сотр...</td>\n",
       "      <td>5</td>\n",
       "      <td>19.04.2015 20:11</td>\n",
       "    </tr>\n",
       "    <tr>\n",
       "      <th>8</th>\n",
       "      <td>vtb</td>\n",
       "      <td>6 марта 2019г. В 10:33 при проходе в метро \"Ку...</td>\n",
       "      <td>2</td>\n",
       "      <td>28.03.2019 18:36</td>\n",
       "    </tr>\n",
       "    <tr>\n",
       "      <th>...</th>\n",
       "      <td>...</td>\n",
       "      <td>...</td>\n",
       "      <td>...</td>\n",
       "      <td>...</td>\n",
       "    </tr>\n",
       "    <tr>\n",
       "      <th>74995</th>\n",
       "      <td>trust</td>\n",
       "      <td>Три года длится эпопея с закрытием кредитной к...</td>\n",
       "      <td>1</td>\n",
       "      <td>26.10.2016 11:03</td>\n",
       "    </tr>\n",
       "    <tr>\n",
       "      <th>74996</th>\n",
       "      <td>fk_otkritie</td>\n",
       "      <td>Являлся клиентом Бинбанка, пока после слияния ...</td>\n",
       "      <td>2</td>\n",
       "      <td>01.02.2020 21:07</td>\n",
       "    </tr>\n",
       "    <tr>\n",
       "      <th>74997</th>\n",
       "      <td>sberbank</td>\n",
       "      <td>8 мая 2016 г. мною вносились деньги на банковс...</td>\n",
       "      <td>1</td>\n",
       "      <td>14.06.2016 16:03</td>\n",
       "    </tr>\n",
       "    <tr>\n",
       "      <th>74998</th>\n",
       "      <td>uralsib</td>\n",
       "      <td>Здравствуйте! Сегодня 21.04.2020 захожу в моби...</td>\n",
       "      <td>3</td>\n",
       "      <td>21.04.2020 8:24</td>\n",
       "    </tr>\n",
       "    <tr>\n",
       "      <th>74999</th>\n",
       "      <td>bnpparibaseast</td>\n",
       "      <td>Уважаемое руководство банка!Если все услуги ва...</td>\n",
       "      <td>1</td>\n",
       "      <td>01.06.2011 13:05</td>\n",
       "    </tr>\n",
       "  </tbody>\n",
       "</table>\n",
       "<p>51476 rows × 4 columns</p>\n",
       "</div>"
      ],
      "text/plain": [
       "                 bank                                              feeds  \\\n",
       "0                ubrr  Много лет являюсь клиентом этого банка, но пос...   \n",
       "1         fk_otkritie  Г. Ростов-на-Дону, ул. Ленина, 48. Были 10.12....   \n",
       "4       promsvyazbank  Имею потребительский кредит, взятый в Связь-ба...   \n",
       "7      homecreditbank  Хочу выразить глубокую благодарность всем сотр...   \n",
       "8                 vtb  6 марта 2019г. В 10:33 при проходе в метро \"Ку...   \n",
       "...               ...                                                ...   \n",
       "74995           trust  Три года длится эпопея с закрытием кредитной к...   \n",
       "74996     fk_otkritie  Являлся клиентом Бинбанка, пока после слияния ...   \n",
       "74997        sberbank  8 мая 2016 г. мною вносились деньги на банковс...   \n",
       "74998         uralsib  Здравствуйте! Сегодня 21.04.2020 захожу в моби...   \n",
       "74999  bnpparibaseast  Уважаемое руководство банка!Если все услуги ва...   \n",
       "\n",
       "       grades              date  \n",
       "0           1  16.02.2017 16:10  \n",
       "1           2   13.12.2016 1:05  \n",
       "4           2   04.08.2020 6:38  \n",
       "7           5  19.04.2015 20:11  \n",
       "8           2  28.03.2019 18:36  \n",
       "...       ...               ...  \n",
       "74995       1  26.10.2016 11:03  \n",
       "74996       2  01.02.2020 21:07  \n",
       "74997       1  14.06.2016 16:03  \n",
       "74998       3   21.04.2020 8:24  \n",
       "74999       1  01.06.2011 13:05  \n",
       "\n",
       "[51476 rows x 4 columns]"
      ]
     },
     "execution_count": 5,
     "metadata": {},
     "output_type": "execute_result"
    }
   ],
   "source": [
    "df = df.astype({'grades': 'int32'})\n",
    "df"
   ]
  },
  {
   "cell_type": "code",
   "execution_count": 6,
   "metadata": {
    "execution": {
     "iopub.execute_input": "2022-12-10T13:10:00.116342Z",
     "iopub.status.busy": "2022-12-10T13:10:00.115894Z",
     "iopub.status.idle": "2022-12-10T13:10:01.404282Z",
     "shell.execute_reply": "2022-12-10T13:10:01.402892Z",
     "shell.execute_reply.started": "2022-12-10T13:10:00.116308Z"
    }
   },
   "outputs": [],
   "source": [
    "import pandas as pd\n",
    "import numpy as np\n",
    "\n",
    "from sklearn.feature_extraction.text import CountVectorizer, TfidfVectorizer\n",
    "from sklearn.linear_model import LogisticRegression, SGDClassifier\n",
    "from sklearn.svm import LinearSVC\n",
    "from sklearn import model_selection\n",
    "from sklearn.model_selection import cross_val_score, train_test_split, GridSearchCV, RandomizedSearchCV\n",
    "from sklearn.pipeline import Pipeline\n",
    "from sklearn import metrics\n",
    "\n",
    "import nltk\n",
    "from nltk.stem.snowball import SnowballStemmer\n",
    "\n",
    "import matplotlib.pyplot as plt\n",
    "import seaborn as sns\n",
    "import re"
   ]
  },
  {
   "cell_type": "code",
   "execution_count": 7,
   "metadata": {
    "execution": {
     "iopub.execute_input": "2022-12-10T13:10:05.143876Z",
     "iopub.status.busy": "2022-12-10T13:10:05.143370Z",
     "iopub.status.idle": "2022-12-10T13:10:05.152261Z",
     "shell.execute_reply": "2022-12-10T13:10:05.151263Z",
     "shell.execute_reply.started": "2022-12-10T13:10:05.143841Z"
    }
   },
   "outputs": [],
   "source": [
    "def cleanText(string):\n",
    "    \"\"\"This function deletes all symbols except Cyrilic and Base Latin alphabet,\n",
    "    stopwords, functional parts of speech. Returns string of words stem.\"\"\"\n",
    "    # Common cleaning\n",
    "    string = string.lower()\n",
    "    #string = re.sub(r\"http\\S+\", \"\", string)\n",
    "    string = str.replace(string,'Ё','е')\n",
    "    string = str.replace(string,'ё','е')\n",
    "    prog = re.compile('[А-Яа-яA-Za-z]+')\n",
    "    words = prog.findall(string.lower())\n",
    "    \n",
    "    # Word Cleaning\n",
    "    ## Stop Words\n",
    "    stopwords = nltk.corpus.stopwords.words('russian')\n",
    "    words = [w for w in words if w not in stopwords]\n",
    "    ## Cleaning functional POS (Parts of Speech)\n",
    "    functionalPos = {'CONJ', 'PRCL'}\n",
    "    words = [w for w, pos in nltk.pos_tag(words, lang='rus') if pos not in functionalPos]\n",
    "    ## Stemming\n",
    "    stemmer = SnowballStemmer('russian')\n",
    "    return ' '.join(list(map(stemmer.stem, words)))"
   ]
  },
  {
   "cell_type": "code",
   "execution_count": 10,
   "metadata": {
    "execution": {
     "iopub.execute_input": "2022-12-10T13:15:23.256743Z",
     "iopub.status.busy": "2022-12-10T13:15:23.256338Z",
     "iopub.status.idle": "2022-12-10T13:15:37.550580Z",
     "shell.execute_reply": "2022-12-10T13:15:37.549622Z",
     "shell.execute_reply.started": "2022-12-10T13:15:23.256711Z"
    }
   },
   "outputs": [
    {
     "name": "stdout",
     "output_type": "stream",
     "text": [
      "Collecting pymorphy2\n",
      "  Downloading pymorphy2-0.9.1-py3-none-any.whl (55 kB)\n",
      "\u001b[2K     \u001b[90m━━━━━━━━━━━━━━━━━━━━━━━━━━━━━━━━━━━━━━━━\u001b[0m \u001b[32m55.5/55.5 kB\u001b[0m \u001b[31m2.4 MB/s\u001b[0m eta \u001b[36m0:00:00\u001b[0m\n",
      "\u001b[?25hRequirement already satisfied: docopt>=0.6 in /opt/conda/lib/python3.7/site-packages (from pymorphy2) (0.6.2)\n",
      "Collecting dawg-python>=0.7.1\n",
      "  Downloading DAWG_Python-0.7.2-py2.py3-none-any.whl (11 kB)\n",
      "Collecting pymorphy2-dicts-ru<3.0,>=2.4\n",
      "  Downloading pymorphy2_dicts_ru-2.4.417127.4579844-py2.py3-none-any.whl (8.2 MB)\n",
      "\u001b[2K     \u001b[90m━━━━━━━━━━━━━━━━━━━━━━━━━━━━━━━━━━━━━━━━\u001b[0m \u001b[32m8.2/8.2 MB\u001b[0m \u001b[31m48.2 MB/s\u001b[0m eta \u001b[36m0:00:00\u001b[0m00:01\u001b[0m00:01\u001b[0m\n",
      "\u001b[?25hInstalling collected packages: pymorphy2-dicts-ru, dawg-python, pymorphy2\n",
      "Successfully installed dawg-python-0.7.2 pymorphy2-0.9.1 pymorphy2-dicts-ru-2.4.417127.4579844\n",
      "\u001b[33mWARNING: Running pip as the 'root' user can result in broken permissions and conflicting behaviour with the system package manager. It is recommended to use a virtual environment instead: https://pip.pypa.io/warnings/venv\u001b[0m\u001b[33m\n",
      "\u001b[0m"
     ]
    },
    {
     "name": "stderr",
     "output_type": "stream",
     "text": [
      "[nltk_data] Downloading package stopwords to /usr/share/nltk_data...\n",
      "[nltk_data]   Package stopwords is already up-to-date!\n"
     ]
    },
    {
     "data": {
      "text/plain": [
       "True"
      ]
     },
     "execution_count": 10,
     "metadata": {},
     "output_type": "execute_result"
    }
   ],
   "source": [
    "!pip install pymorphy2\n",
    "import re\n",
    "from pymorphy2 import MorphAnalyzer\n",
    "from functools import lru_cache\n",
    "from nltk.corpus import stopwords\n",
    "\n",
    "from multiprocessing import Pool\n",
    "from tqdm import tqdm\n",
    "\n",
    "import nltk\n",
    "nltk.download('stopwords')"
   ]
  },
  {
   "cell_type": "code",
   "execution_count": 28,
   "metadata": {
    "execution": {
     "iopub.execute_input": "2022-12-10T13:27:44.330902Z",
     "iopub.status.busy": "2022-12-10T13:27:44.330492Z",
     "iopub.status.idle": "2022-12-10T13:27:44.584558Z",
     "shell.execute_reply": "2022-12-10T13:27:44.583687Z",
     "shell.execute_reply.started": "2022-12-10T13:27:44.330865Z"
    }
   },
   "outputs": [],
   "source": [
    "import nltk\n",
    "from nltk.stem.snowball import SnowballStemmer\n",
    "m = MorphAnalyzer()\n",
    "regex = re.compile(\"[А-Яа-яA-z]+\")\n",
    "\n",
    "def words_only(text, regex=regex):\n",
    "    try:\n",
    "        return regex.findall(text.lower())\n",
    "    except:\n",
    "        return []\n",
    "\n",
    "@lru_cache(maxsize=256)\n",
    "def lemmatize_word(token, pymorphy=m):\n",
    "    return pymorphy.parse(token)[0].normal_form\n",
    "\n",
    "def lemmatize_text(text):\n",
    "    return [lemmatize_word(w) for w in text]\n",
    "\n",
    "\n",
    "mystopwords = stopwords.words('russian')\n",
    "def remove_stopwords(lemmas, stopwords = mystopwords):\n",
    "    return [w for w in lemmas if not w in stopwords]\n",
    "\n",
    "def clean_text(text):\n",
    "    text = str.replace(text,'Ё','е')\n",
    "    text = str.replace(text,'ё','е')\n",
    "    tokens = words_only(text)\n",
    "    functionalPos = {'CONJ', 'PRCL'}\n",
    "    tokens = [w for w, pos in nltk.pos_tag(tokens, lang='rus') if pos not in functionalPos]\n",
    "    lemmas = lemmatize_text(tokens)\n",
    "    stemmer = SnowballStemmer('russian')\n",
    "    return ' '.join(remove_stopwords(lemmas))"
   ]
  },
  {
   "cell_type": "code",
   "execution_count": 16,
   "metadata": {
    "execution": {
     "iopub.execute_input": "2022-12-10T13:21:17.394778Z",
     "iopub.status.busy": "2022-12-10T13:21:17.394058Z",
     "iopub.status.idle": "2022-12-10T13:21:17.404479Z",
     "shell.execute_reply": "2022-12-10T13:21:17.403482Z",
     "shell.execute_reply.started": "2022-12-10T13:21:17.394733Z"
    }
   },
   "outputs": [
    {
     "data": {
      "text/plain": [
       "0    Много лет являюсь клиентом этого банка, но пос...\n",
       "1    Г. Ростов-на-Дону, ул. Ленина, 48. Были 10.12....\n",
       "4    Имею потребительский кредит, взятый в Связь-ба...\n",
       "7    Хочу выразить глубокую благодарность всем сотр...\n",
       "8    6 марта 2019г. В 10:33 при проходе в метро \"Ку...\n",
       "Name: feeds, dtype: object"
      ]
     },
     "execution_count": 16,
     "metadata": {},
     "output_type": "execute_result"
    }
   ],
   "source": [
    "df1 = df.feeds[:50]\n",
    "df1.head()"
   ]
  },
  {
   "cell_type": "code",
   "execution_count": 33,
   "metadata": {
    "execution": {
     "iopub.execute_input": "2022-12-10T13:28:54.305584Z",
     "iopub.status.busy": "2022-12-10T13:28:54.305156Z",
     "iopub.status.idle": "2022-12-10T13:28:56.465033Z",
     "shell.execute_reply": "2022-12-10T13:28:56.463755Z",
     "shell.execute_reply.started": "2022-12-10T13:28:54.305552Z"
    }
   },
   "outputs": [
    {
     "name": "stderr",
     "output_type": "stream",
     "text": [
      "[nltk_data] Downloading package averaged_perceptron_tagger_ru to\n",
      "[nltk_data]     /usr/share/nltk_data...\n",
      "[nltk_data]   Package averaged_perceptron_tagger_ru is already up-to-\n",
      "[nltk_data]       date!\n"
     ]
    },
    {
     "name": "stdout",
     "output_type": "stream",
     "text": [
      "CPU times: user 2.14 s, sys: 11 ms, total: 2.15 s\n",
      "Wall time: 2.15 s\n"
     ]
    }
   ],
   "source": [
    "%%time\n",
    "nltk.download('averaged_perceptron_tagger_ru')\n",
    "text = np.array(df1.values)\n",
    "text = list(map(clean_text, text))"
   ]
  },
  {
   "cell_type": "code",
   "execution_count": 35,
   "metadata": {
    "execution": {
     "iopub.execute_input": "2022-12-10T13:31:14.936857Z",
     "iopub.status.busy": "2022-12-10T13:31:14.936453Z",
     "iopub.status.idle": "2022-12-10T14:09:17.400990Z",
     "shell.execute_reply": "2022-12-10T14:09:17.399658Z",
     "shell.execute_reply.started": "2022-12-10T13:31:14.936827Z"
    }
   },
   "outputs": [
    {
     "name": "stderr",
     "output_type": "stream",
     "text": [
      "100%|██████████| 51476/51476 [38:02<00:00, 22.55it/s]  "
     ]
    },
    {
     "name": "stdout",
     "output_type": "stream",
     "text": [
      "CPU times: user 37min 54s, sys: 10.1 s, total: 38min 4s\n",
      "Wall time: 38min 2s\n"
     ]
    },
    {
     "name": "stderr",
     "output_type": "stream",
     "text": [
      "\n"
     ]
    },
    {
     "data": {
      "text/html": [
       "<div>\n",
       "<style scoped>\n",
       "    .dataframe tbody tr th:only-of-type {\n",
       "        vertical-align: middle;\n",
       "    }\n",
       "\n",
       "    .dataframe tbody tr th {\n",
       "        vertical-align: top;\n",
       "    }\n",
       "\n",
       "    .dataframe thead th {\n",
       "        text-align: right;\n",
       "    }\n",
       "</style>\n",
       "<table border=\"1\" class=\"dataframe\">\n",
       "  <thead>\n",
       "    <tr style=\"text-align: right;\">\n",
       "      <th></th>\n",
       "      <th>bank</th>\n",
       "      <th>feeds</th>\n",
       "      <th>grades</th>\n",
       "      <th>date</th>\n",
       "      <th>text_token</th>\n",
       "    </tr>\n",
       "  </thead>\n",
       "  <tbody>\n",
       "    <tr>\n",
       "      <th>0</th>\n",
       "      <td>ubrr</td>\n",
       "      <td>Много лет являюсь клиентом этого банка, но пос...</td>\n",
       "      <td>1</td>\n",
       "      <td>16.02.2017 16:10</td>\n",
       "      <td>год являться клиент это банк последний визит п...</td>\n",
       "    </tr>\n",
       "    <tr>\n",
       "      <th>1</th>\n",
       "      <td>fk_otkritie</td>\n",
       "      <td>Г. Ростов-на-Дону, ул. Ленина, 48. Были 10.12....</td>\n",
       "      <td>2</td>\n",
       "      <td>13.12.2016 1:05</td>\n",
       "      <td>г ростов дон ул ленин г час данный офис оказат...</td>\n",
       "    </tr>\n",
       "    <tr>\n",
       "      <th>4</th>\n",
       "      <td>promsvyazbank</td>\n",
       "      <td>Имею потребительский кредит, взятый в Связь-ба...</td>\n",
       "      <td>2</td>\n",
       "      <td>04.08.2020 6:38</td>\n",
       "      <td>иметь потребительский кредит взять связь банк ...</td>\n",
       "    </tr>\n",
       "    <tr>\n",
       "      <th>7</th>\n",
       "      <td>homecreditbank</td>\n",
       "      <td>Хочу выразить глубокую благодарность всем сотр...</td>\n",
       "      <td>5</td>\n",
       "      <td>19.04.2015 20:11</td>\n",
       "      <td>хотеть выразить глубокий благодарность весь со...</td>\n",
       "    </tr>\n",
       "    <tr>\n",
       "      <th>8</th>\n",
       "      <td>vtb</td>\n",
       "      <td>6 марта 2019г. В 10:33 при проходе в метро \"Ку...</td>\n",
       "      <td>2</td>\n",
       "      <td>28.03.2019 18:36</td>\n",
       "      <td>март г проход метро курский социальный карта б...</td>\n",
       "    </tr>\n",
       "  </tbody>\n",
       "</table>\n",
       "</div>"
      ],
      "text/plain": [
       "             bank                                              feeds  grades  \\\n",
       "0            ubrr  Много лет являюсь клиентом этого банка, но пос...       1   \n",
       "1     fk_otkritie  Г. Ростов-на-Дону, ул. Ленина, 48. Были 10.12....       2   \n",
       "4   promsvyazbank  Имею потребительский кредит, взятый в Связь-ба...       2   \n",
       "7  homecreditbank  Хочу выразить глубокую благодарность всем сотр...       5   \n",
       "8             vtb  6 марта 2019г. В 10:33 при проходе в метро \"Ку...       2   \n",
       "\n",
       "               date                                         text_token  \n",
       "0  16.02.2017 16:10  год являться клиент это банк последний визит п...  \n",
       "1   13.12.2016 1:05  г ростов дон ул ленин г час данный офис оказат...  \n",
       "4   04.08.2020 6:38  иметь потребительский кредит взять связь банк ...  \n",
       "7  19.04.2015 20:11  хотеть выразить глубокий благодарность весь со...  \n",
       "8  28.03.2019 18:36  март г проход метро курский социальный карта б...  "
      ]
     },
     "execution_count": 35,
     "metadata": {},
     "output_type": "execute_result"
    }
   ],
   "source": [
    "%%time\n",
    "\n",
    "for index, row in tqdm(df.iterrows(), total=df.shape[0]):\n",
    "    df.loc[index, 'text_token'] = clean_text(row['feeds'])\n",
    "\n",
    "df.head()"
   ]
  },
  {
   "cell_type": "code",
   "execution_count": 36,
   "metadata": {
    "execution": {
     "iopub.execute_input": "2022-12-10T14:09:17.403087Z",
     "iopub.status.busy": "2022-12-10T14:09:17.402769Z",
     "iopub.status.idle": "2022-12-10T14:09:20.686006Z",
     "shell.execute_reply": "2022-12-10T14:09:20.684937Z",
     "shell.execute_reply.started": "2022-12-10T14:09:17.403058Z"
    }
   },
   "outputs": [],
   "source": [
    "df.to_csv('dataframe_lemas.csv', index=False)"
   ]
  },
  {
   "cell_type": "code",
   "execution_count": 37,
   "metadata": {
    "execution": {
     "iopub.execute_input": "2022-12-10T14:13:04.424850Z",
     "iopub.status.busy": "2022-12-10T14:13:04.424443Z",
     "iopub.status.idle": "2022-12-10T14:13:05.861589Z",
     "shell.execute_reply": "2022-12-10T14:13:05.860384Z",
     "shell.execute_reply.started": "2022-12-10T14:13:04.424819Z"
    }
   },
   "outputs": [
    {
     "data": {
      "text/html": [
       "<div>\n",
       "<style scoped>\n",
       "    .dataframe tbody tr th:only-of-type {\n",
       "        vertical-align: middle;\n",
       "    }\n",
       "\n",
       "    .dataframe tbody tr th {\n",
       "        vertical-align: top;\n",
       "    }\n",
       "\n",
       "    .dataframe thead th {\n",
       "        text-align: right;\n",
       "    }\n",
       "</style>\n",
       "<table border=\"1\" class=\"dataframe\">\n",
       "  <thead>\n",
       "    <tr style=\"text-align: right;\">\n",
       "      <th></th>\n",
       "      <th>Unnamed: 0</th>\n",
       "      <th>bank</th>\n",
       "      <th>feeds</th>\n",
       "      <th>date</th>\n",
       "    </tr>\n",
       "  </thead>\n",
       "  <tbody>\n",
       "    <tr>\n",
       "      <th>0</th>\n",
       "      <td>0</td>\n",
       "      <td>sberbank</td>\n",
       "      <td>Оформляем ипотеку в Сбербанке. 22.06.2020 были...</td>\n",
       "      <td>01.07.2020 10:53</td>\n",
       "    </tr>\n",
       "    <tr>\n",
       "      <th>1</th>\n",
       "      <td>1</td>\n",
       "      <td>alfabank</td>\n",
       "      <td>Краткое содержание: не рекомендую брать кредит...</td>\n",
       "      <td>20.06.2019 13:19</td>\n",
       "    </tr>\n",
       "    <tr>\n",
       "      <th>2</th>\n",
       "      <td>2</td>\n",
       "      <td>v-express-bank</td>\n",
       "      <td>Добрый день, уважаемые сотрудники службы контр...</td>\n",
       "      <td>20.02.2016 11:46</td>\n",
       "    </tr>\n",
       "    <tr>\n",
       "      <th>3</th>\n",
       "      <td>3</td>\n",
       "      <td>homecreditbank</td>\n",
       "      <td>Обращался за получением карты \"Зеленая польза\"...</td>\n",
       "      <td>06.05.2019 15:48</td>\n",
       "    </tr>\n",
       "    <tr>\n",
       "      <th>4</th>\n",
       "      <td>4</td>\n",
       "      <td>vtb</td>\n",
       "      <td>20.05.2016 обратилась в отделение банка на про...</td>\n",
       "      <td>23.05.2016 15:41</td>\n",
       "    </tr>\n",
       "    <tr>\n",
       "      <th>...</th>\n",
       "      <td>...</td>\n",
       "      <td>...</td>\n",
       "      <td>...</td>\n",
       "      <td>...</td>\n",
       "    </tr>\n",
       "    <tr>\n",
       "      <th>17215</th>\n",
       "      <td>17215</td>\n",
       "      <td>sberbank</td>\n",
       "      <td>21.09.2018 в 15:26:56, я, О-ва К. К., снимала ...</td>\n",
       "      <td>22.09.2018 16:08</td>\n",
       "    </tr>\n",
       "    <tr>\n",
       "      <th>17216</th>\n",
       "      <td>17216</td>\n",
       "      <td>homecreditbank</td>\n",
       "      <td>Наверняка не засчитают, но тем не менее. Нужна...</td>\n",
       "      <td>06.10.2011 9:35</td>\n",
       "    </tr>\n",
       "    <tr>\n",
       "      <th>17217</th>\n",
       "      <td>17217</td>\n",
       "      <td>interprombank</td>\n",
       "      <td>15.08.2019 я, как физ.лицо обратилась в офис н...</td>\n",
       "      <td>21.08.2019 14:13</td>\n",
       "    </tr>\n",
       "    <tr>\n",
       "      <th>17218</th>\n",
       "      <td>17218</td>\n",
       "      <td>otpbank</td>\n",
       "      <td>У банка есть рекламный продукт-игра \"Мои рыбки...</td>\n",
       "      <td>29.05.2020 16:12</td>\n",
       "    </tr>\n",
       "    <tr>\n",
       "      <th>17219</th>\n",
       "      <td>17219</td>\n",
       "      <td>sberbank</td>\n",
       "      <td>26 мая 2015 года мною была совершена операция ...</td>\n",
       "      <td>02.06.2015 15:44</td>\n",
       "    </tr>\n",
       "  </tbody>\n",
       "</table>\n",
       "<p>17220 rows × 4 columns</p>\n",
       "</div>"
      ],
      "text/plain": [
       "       Unnamed: 0            bank  \\\n",
       "0               0        sberbank   \n",
       "1               1        alfabank   \n",
       "2               2  v-express-bank   \n",
       "3               3  homecreditbank   \n",
       "4               4             vtb   \n",
       "...           ...             ...   \n",
       "17215       17215        sberbank   \n",
       "17216       17216  homecreditbank   \n",
       "17217       17217   interprombank   \n",
       "17218       17218         otpbank   \n",
       "17219       17219        sberbank   \n",
       "\n",
       "                                                   feeds              date  \n",
       "0      Оформляем ипотеку в Сбербанке. 22.06.2020 были...  01.07.2020 10:53  \n",
       "1      Краткое содержание: не рекомендую брать кредит...  20.06.2019 13:19  \n",
       "2      Добрый день, уважаемые сотрудники службы контр...  20.02.2016 11:46  \n",
       "3      Обращался за получением карты \"Зеленая польза\"...  06.05.2019 15:48  \n",
       "4      20.05.2016 обратилась в отделение банка на про...  23.05.2016 15:41  \n",
       "...                                                  ...               ...  \n",
       "17215  21.09.2018 в 15:26:56, я, О-ва К. К., снимала ...  22.09.2018 16:08  \n",
       "17216  Наверняка не засчитают, но тем не менее. Нужна...   06.10.2011 9:35  \n",
       "17217  15.08.2019 я, как физ.лицо обратилась в офис н...  21.08.2019 14:13  \n",
       "17218  У банка есть рекламный продукт-игра \"Мои рыбки...  29.05.2020 16:12  \n",
       "17219  26 мая 2015 года мною была совершена операция ...  02.06.2015 15:44  \n",
       "\n",
       "[17220 rows x 4 columns]"
      ]
     },
     "execution_count": 37,
     "metadata": {},
     "output_type": "execute_result"
    }
   ],
   "source": [
    "dftest = pd.read_csv('/kaggle/input/test-for-nlp/dataframetest_with_lemas.csv')\n",
    "dftest"
   ]
  },
  {
   "cell_type": "code",
   "execution_count": 38,
   "metadata": {
    "execution": {
     "iopub.execute_input": "2022-12-10T14:13:35.380613Z",
     "iopub.status.busy": "2022-12-10T14:13:35.380206Z",
     "iopub.status.idle": "2022-12-10T14:26:04.876443Z",
     "shell.execute_reply": "2022-12-10T14:26:04.875187Z",
     "shell.execute_reply.started": "2022-12-10T14:13:35.380583Z"
    }
   },
   "outputs": [
    {
     "name": "stderr",
     "output_type": "stream",
     "text": [
      "100%|██████████| 17220/17220 [12:29<00:00, 22.98it/s]\n"
     ]
    },
    {
     "data": {
      "text/html": [
       "<div>\n",
       "<style scoped>\n",
       "    .dataframe tbody tr th:only-of-type {\n",
       "        vertical-align: middle;\n",
       "    }\n",
       "\n",
       "    .dataframe tbody tr th {\n",
       "        vertical-align: top;\n",
       "    }\n",
       "\n",
       "    .dataframe thead th {\n",
       "        text-align: right;\n",
       "    }\n",
       "</style>\n",
       "<table border=\"1\" class=\"dataframe\">\n",
       "  <thead>\n",
       "    <tr style=\"text-align: right;\">\n",
       "      <th></th>\n",
       "      <th>Unnamed: 0</th>\n",
       "      <th>bank</th>\n",
       "      <th>feeds</th>\n",
       "      <th>date</th>\n",
       "      <th>text_token</th>\n",
       "    </tr>\n",
       "  </thead>\n",
       "  <tbody>\n",
       "    <tr>\n",
       "      <th>0</th>\n",
       "      <td>0</td>\n",
       "      <td>sberbank</td>\n",
       "      <td>Оформляем ипотеку в Сбербанке. 22.06.2020 были...</td>\n",
       "      <td>01.07.2020 10:53</td>\n",
       "      <td>оформлять ипотека сбербанк подгрузить необходи...</td>\n",
       "    </tr>\n",
       "    <tr>\n",
       "      <th>1</th>\n",
       "      <td>1</td>\n",
       "      <td>alfabank</td>\n",
       "      <td>Краткое содержание: не рекомендую брать кредит...</td>\n",
       "      <td>20.06.2019 13:19</td>\n",
       "      <td>краткий содержание рекомендовать брать кредит ...</td>\n",
       "    </tr>\n",
       "    <tr>\n",
       "      <th>2</th>\n",
       "      <td>2</td>\n",
       "      <td>v-express-bank</td>\n",
       "      <td>Добрый день, уважаемые сотрудники службы контр...</td>\n",
       "      <td>20.02.2016 11:46</td>\n",
       "      <td>добрый день уважаемый сотрудник служба контрол...</td>\n",
       "    </tr>\n",
       "    <tr>\n",
       "      <th>3</th>\n",
       "      <td>3</td>\n",
       "      <td>homecreditbank</td>\n",
       "      <td>Обращался за получением карты \"Зеленая польза\"...</td>\n",
       "      <td>06.05.2019 15:48</td>\n",
       "      <td>обращаться получение карта зелёный польза сотр...</td>\n",
       "    </tr>\n",
       "    <tr>\n",
       "      <th>4</th>\n",
       "      <td>4</td>\n",
       "      <td>vtb</td>\n",
       "      <td>20.05.2016 обратилась в отделение банка на про...</td>\n",
       "      <td>23.05.2016 15:41</td>\n",
       "      <td>обратиться отделение банк проспект ленин отдел...</td>\n",
       "    </tr>\n",
       "  </tbody>\n",
       "</table>\n",
       "</div>"
      ],
      "text/plain": [
       "   Unnamed: 0            bank  \\\n",
       "0           0        sberbank   \n",
       "1           1        alfabank   \n",
       "2           2  v-express-bank   \n",
       "3           3  homecreditbank   \n",
       "4           4             vtb   \n",
       "\n",
       "                                               feeds              date  \\\n",
       "0  Оформляем ипотеку в Сбербанке. 22.06.2020 были...  01.07.2020 10:53   \n",
       "1  Краткое содержание: не рекомендую брать кредит...  20.06.2019 13:19   \n",
       "2  Добрый день, уважаемые сотрудники службы контр...  20.02.2016 11:46   \n",
       "3  Обращался за получением карты \"Зеленая польза\"...  06.05.2019 15:48   \n",
       "4  20.05.2016 обратилась в отделение банка на про...  23.05.2016 15:41   \n",
       "\n",
       "                                          text_token  \n",
       "0  оформлять ипотека сбербанк подгрузить необходи...  \n",
       "1  краткий содержание рекомендовать брать кредит ...  \n",
       "2  добрый день уважаемый сотрудник служба контрол...  \n",
       "3  обращаться получение карта зелёный польза сотр...  \n",
       "4  обратиться отделение банк проспект ленин отдел...  "
      ]
     },
     "execution_count": 38,
     "metadata": {},
     "output_type": "execute_result"
    }
   ],
   "source": [
    "for index, row in tqdm(dftest.iterrows(), total=dftest.shape[0]):\n",
    "    dftest.loc[index, 'text_token'] = clean_text(row['feeds'])\n",
    "\n",
    "dftest.head()"
   ]
  },
  {
   "cell_type": "code",
   "execution_count": 62,
   "metadata": {
    "execution": {
     "iopub.execute_input": "2022-12-10T14:40:48.329430Z",
     "iopub.status.busy": "2022-12-10T14:40:48.328996Z",
     "iopub.status.idle": "2022-12-10T14:40:48.360919Z",
     "shell.execute_reply": "2022-12-10T14:40:48.359668Z",
     "shell.execute_reply.started": "2022-12-10T14:40:48.329395Z"
    }
   },
   "outputs": [],
   "source": [
    "text = df['text_token']\n",
    "target = df['grades']\n",
    "X_train, X_test, y_train, y_test = train_test_split(\n",
    "    text, target, test_size=0.2, stratify=target\n",
    ")"
   ]
  },
  {
   "cell_type": "code",
   "execution_count": 63,
   "metadata": {
    "execution": {
     "iopub.execute_input": "2022-12-10T14:40:49.771899Z",
     "iopub.status.busy": "2022-12-10T14:40:49.771385Z",
     "iopub.status.idle": "2022-12-10T14:40:49.780151Z",
     "shell.execute_reply": "2022-12-10T14:40:49.778794Z",
     "shell.execute_reply.started": "2022-12-10T14:40:49.771863Z"
    }
   },
   "outputs": [
    {
     "name": "stdout",
     "output_type": "stream",
     "text": [
      "Dim of train: 41180 \tTarget rate: 2.40%\n",
      "Dim of test: 10296 \tTarget rate: 2.40%\n"
     ]
    }
   ],
   "source": [
    "print('Dim of train:', len(X_train), '\\tTarget rate: {:.2f}%'.format(y_train.mean()))\n",
    "print(\"Dim of test:\", len(X_test), '\\tTarget rate: {:.2f}%'.format(y_test.mean()))"
   ]
  },
  {
   "cell_type": "code",
   "execution_count": 45,
   "metadata": {
    "execution": {
     "iopub.execute_input": "2022-12-10T14:30:41.779907Z",
     "iopub.status.busy": "2022-12-10T14:30:41.779322Z",
     "iopub.status.idle": "2022-12-10T14:30:50.940202Z",
     "shell.execute_reply": "2022-12-10T14:30:50.938999Z",
     "shell.execute_reply.started": "2022-12-10T14:30:41.779848Z"
    }
   },
   "outputs": [
    {
     "data": {
      "text/plain": [
       "Pipeline(steps=[('vectorizer', TfidfVectorizer()), ('classifier', LinearSVC())])"
      ]
     },
     "execution_count": 45,
     "metadata": {},
     "output_type": "execute_result"
    }
   ],
   "source": [
    "clf_pipeline = Pipeline(\n",
    "            [(\"vectorizer\", TfidfVectorizer()), # Prod feature: tokenizer=cleanText\n",
    "            (\"classifier\", LinearSVC())]\n",
    "        )\n",
    "\n",
    "clf_pipeline.fit(X_train, y_train)"
   ]
  },
  {
   "cell_type": "code",
   "execution_count": 46,
   "metadata": {
    "execution": {
     "iopub.execute_input": "2022-12-10T14:31:36.203648Z",
     "iopub.status.busy": "2022-12-10T14:31:36.203147Z",
     "iopub.status.idle": "2022-12-10T14:31:38.514219Z",
     "shell.execute_reply": "2022-12-10T14:31:38.512423Z",
     "shell.execute_reply.started": "2022-12-10T14:31:36.203609Z"
    }
   },
   "outputs": [
    {
     "name": "stdout",
     "output_type": "stream",
     "text": [
      "              precision    recall  f1-score   support\n",
      "\n",
      "           1       0.77      0.96      0.85      5548\n",
      "           2       0.25      0.07      0.10      1127\n",
      "           3       0.08      0.01      0.02       471\n",
      "           4       0.39      0.07      0.11       304\n",
      "           5       0.89      0.93      0.91      2846\n",
      "\n",
      "    accuracy                           0.78     10296\n",
      "   macro avg       0.48      0.41      0.40     10296\n",
      "weighted avg       0.70      0.78      0.73     10296\n",
      "\n"
     ]
    },
    {
     "ename": "ValueError",
     "evalue": "Target is multiclass but average='binary'. Please choose another average setting, one of [None, 'micro', 'macro', 'weighted'].",
     "output_type": "error",
     "traceback": [
      "\u001b[0;31m---------------------------------------------------------------------------\u001b[0m",
      "\u001b[0;31mValueError\u001b[0m                                Traceback (most recent call last)",
      "\u001b[0;32m/tmp/ipykernel_28/8064053.py\u001b[0m in \u001b[0;36m<module>\u001b[0;34m\u001b[0m\n\u001b[1;32m      1\u001b[0m \u001b[0mprint\u001b[0m\u001b[0;34m(\u001b[0m\u001b[0mmetrics\u001b[0m\u001b[0;34m.\u001b[0m\u001b[0mclassification_report\u001b[0m\u001b[0;34m(\u001b[0m\u001b[0my_test\u001b[0m\u001b[0;34m,\u001b[0m \u001b[0mclf_pipeline\u001b[0m\u001b[0;34m.\u001b[0m\u001b[0mpredict\u001b[0m\u001b[0;34m(\u001b[0m\u001b[0mX_test\u001b[0m\u001b[0;34m)\u001b[0m\u001b[0;34m)\u001b[0m\u001b[0;34m)\u001b[0m\u001b[0;34m\u001b[0m\u001b[0;34m\u001b[0m\u001b[0m\n\u001b[0;32m----> 2\u001b[0;31m \u001b[0mf1_base\u001b[0m \u001b[0;34m=\u001b[0m \u001b[0mmetrics\u001b[0m\u001b[0;34m.\u001b[0m\u001b[0mf1_score\u001b[0m\u001b[0;34m(\u001b[0m\u001b[0my_test\u001b[0m\u001b[0;34m,\u001b[0m \u001b[0mclf_pipeline\u001b[0m\u001b[0;34m.\u001b[0m\u001b[0mpredict\u001b[0m\u001b[0;34m(\u001b[0m\u001b[0mX_test\u001b[0m\u001b[0;34m)\u001b[0m\u001b[0;34m)\u001b[0m\u001b[0;34m\u001b[0m\u001b[0;34m\u001b[0m\u001b[0m\n\u001b[0m",
      "\u001b[0;32m/opt/conda/lib/python3.7/site-packages/sklearn/metrics/_classification.py\u001b[0m in \u001b[0;36mf1_score\u001b[0;34m(y_true, y_pred, labels, pos_label, average, sample_weight, zero_division)\u001b[0m\n\u001b[1;32m   1129\u001b[0m         \u001b[0maverage\u001b[0m\u001b[0;34m=\u001b[0m\u001b[0maverage\u001b[0m\u001b[0;34m,\u001b[0m\u001b[0;34m\u001b[0m\u001b[0;34m\u001b[0m\u001b[0m\n\u001b[1;32m   1130\u001b[0m         \u001b[0msample_weight\u001b[0m\u001b[0;34m=\u001b[0m\u001b[0msample_weight\u001b[0m\u001b[0;34m,\u001b[0m\u001b[0;34m\u001b[0m\u001b[0;34m\u001b[0m\u001b[0m\n\u001b[0;32m-> 1131\u001b[0;31m         \u001b[0mzero_division\u001b[0m\u001b[0;34m=\u001b[0m\u001b[0mzero_division\u001b[0m\u001b[0;34m,\u001b[0m\u001b[0;34m\u001b[0m\u001b[0;34m\u001b[0m\u001b[0m\n\u001b[0m\u001b[1;32m   1132\u001b[0m     )\n\u001b[1;32m   1133\u001b[0m \u001b[0;34m\u001b[0m\u001b[0m\n",
      "\u001b[0;32m/opt/conda/lib/python3.7/site-packages/sklearn/metrics/_classification.py\u001b[0m in \u001b[0;36mfbeta_score\u001b[0;34m(y_true, y_pred, beta, labels, pos_label, average, sample_weight, zero_division)\u001b[0m\n\u001b[1;32m   1268\u001b[0m         \u001b[0mwarn_for\u001b[0m\u001b[0;34m=\u001b[0m\u001b[0;34m(\u001b[0m\u001b[0;34m\"f-score\"\u001b[0m\u001b[0;34m,\u001b[0m\u001b[0;34m)\u001b[0m\u001b[0;34m,\u001b[0m\u001b[0;34m\u001b[0m\u001b[0;34m\u001b[0m\u001b[0m\n\u001b[1;32m   1269\u001b[0m         \u001b[0msample_weight\u001b[0m\u001b[0;34m=\u001b[0m\u001b[0msample_weight\u001b[0m\u001b[0;34m,\u001b[0m\u001b[0;34m\u001b[0m\u001b[0;34m\u001b[0m\u001b[0m\n\u001b[0;32m-> 1270\u001b[0;31m         \u001b[0mzero_division\u001b[0m\u001b[0;34m=\u001b[0m\u001b[0mzero_division\u001b[0m\u001b[0;34m,\u001b[0m\u001b[0;34m\u001b[0m\u001b[0;34m\u001b[0m\u001b[0m\n\u001b[0m\u001b[1;32m   1271\u001b[0m     )\n\u001b[1;32m   1272\u001b[0m     \u001b[0;32mreturn\u001b[0m \u001b[0mf\u001b[0m\u001b[0;34m\u001b[0m\u001b[0;34m\u001b[0m\u001b[0m\n",
      "\u001b[0;32m/opt/conda/lib/python3.7/site-packages/sklearn/metrics/_classification.py\u001b[0m in \u001b[0;36mprecision_recall_fscore_support\u001b[0;34m(y_true, y_pred, beta, labels, pos_label, average, warn_for, sample_weight, zero_division)\u001b[0m\n\u001b[1;32m   1542\u001b[0m     \u001b[0;32mif\u001b[0m \u001b[0mbeta\u001b[0m \u001b[0;34m<\u001b[0m \u001b[0;36m0\u001b[0m\u001b[0;34m:\u001b[0m\u001b[0;34m\u001b[0m\u001b[0;34m\u001b[0m\u001b[0m\n\u001b[1;32m   1543\u001b[0m         \u001b[0;32mraise\u001b[0m \u001b[0mValueError\u001b[0m\u001b[0;34m(\u001b[0m\u001b[0;34m\"beta should be >=0 in the F-beta score\"\u001b[0m\u001b[0;34m)\u001b[0m\u001b[0;34m\u001b[0m\u001b[0;34m\u001b[0m\u001b[0m\n\u001b[0;32m-> 1544\u001b[0;31m     \u001b[0mlabels\u001b[0m \u001b[0;34m=\u001b[0m \u001b[0m_check_set_wise_labels\u001b[0m\u001b[0;34m(\u001b[0m\u001b[0my_true\u001b[0m\u001b[0;34m,\u001b[0m \u001b[0my_pred\u001b[0m\u001b[0;34m,\u001b[0m \u001b[0maverage\u001b[0m\u001b[0;34m,\u001b[0m \u001b[0mlabels\u001b[0m\u001b[0;34m,\u001b[0m \u001b[0mpos_label\u001b[0m\u001b[0;34m)\u001b[0m\u001b[0;34m\u001b[0m\u001b[0;34m\u001b[0m\u001b[0m\n\u001b[0m\u001b[1;32m   1545\u001b[0m \u001b[0;34m\u001b[0m\u001b[0m\n\u001b[1;32m   1546\u001b[0m     \u001b[0;31m# Calculate tp_sum, pred_sum, true_sum ###\u001b[0m\u001b[0;34m\u001b[0m\u001b[0;34m\u001b[0m\u001b[0;34m\u001b[0m\u001b[0m\n",
      "\u001b[0;32m/opt/conda/lib/python3.7/site-packages/sklearn/metrics/_classification.py\u001b[0m in \u001b[0;36m_check_set_wise_labels\u001b[0;34m(y_true, y_pred, average, labels, pos_label)\u001b[0m\n\u001b[1;32m   1365\u001b[0m             raise ValueError(\n\u001b[1;32m   1366\u001b[0m                 \u001b[0;34m\"Target is %s but average='binary'. Please \"\u001b[0m\u001b[0;34m\u001b[0m\u001b[0;34m\u001b[0m\u001b[0m\n\u001b[0;32m-> 1367\u001b[0;31m                 \u001b[0;34m\"choose another average setting, one of %r.\"\u001b[0m \u001b[0;34m%\u001b[0m \u001b[0;34m(\u001b[0m\u001b[0my_type\u001b[0m\u001b[0;34m,\u001b[0m \u001b[0maverage_options\u001b[0m\u001b[0;34m)\u001b[0m\u001b[0;34m\u001b[0m\u001b[0;34m\u001b[0m\u001b[0m\n\u001b[0m\u001b[1;32m   1368\u001b[0m             )\n\u001b[1;32m   1369\u001b[0m     \u001b[0;32melif\u001b[0m \u001b[0mpos_label\u001b[0m \u001b[0;32mnot\u001b[0m \u001b[0;32min\u001b[0m \u001b[0;34m(\u001b[0m\u001b[0;32mNone\u001b[0m\u001b[0;34m,\u001b[0m \u001b[0;36m1\u001b[0m\u001b[0;34m)\u001b[0m\u001b[0;34m:\u001b[0m\u001b[0;34m\u001b[0m\u001b[0;34m\u001b[0m\u001b[0m\n",
      "\u001b[0;31mValueError\u001b[0m: Target is multiclass but average='binary'. Please choose another average setting, one of [None, 'micro', 'macro', 'weighted']."
     ]
    }
   ],
   "source": [
    "print(metrics.classification_report(y_test, clf_pipeline.predict(X_test)))\n",
    "f1_base = metrics.f1_score(y_test, clf_pipeline.predict(X_test))"
   ]
  }
 ],
 "metadata": {
  "kernelspec": {
   "display_name": "Python 3 (ipykernel)",
   "language": "python",
   "name": "python3"
  },
  "language_info": {
   "codemirror_mode": {
    "name": "ipython",
    "version": 3
   },
   "file_extension": ".py",
   "mimetype": "text/x-python",
   "name": "python",
   "nbconvert_exporter": "python",
   "pygments_lexer": "ipython3",
   "version": "3.11.4"
  }
 },
 "nbformat": 4,
 "nbformat_minor": 4
}
